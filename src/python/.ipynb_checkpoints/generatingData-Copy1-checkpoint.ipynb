{
 "cells": [
  {
   "cell_type": "code",
   "execution_count": 53,
   "id": "6ec090e5",
   "metadata": {},
   "outputs": [],
   "source": [
    "import pandas as pd \n",
    "import numpy as np \n",
    "import random\n",
    "\n",
    "# Define the number of rows in the dataset\n",
    "num_rows = 20000\n",
    "\n",
    "\n",
    "# Define possible values for each column\n",
    "\n",
    "\n",
    "skill_level = [random.choice(['Beginner', 'Intermediate', 'Advanced']) for _ in range(num_rows)]\n",
    "learning_style = [random.choice(['hands-on coding', 'visual programming', 'Theoritical approach']) for _ in range(num_rows)]\n",
    "project_types = [random.choice(['Web Development', 'Mobile App Development','Android App Development','Data Science', 'Artificial Intelligence', 'Game Development', 'Embedded Systems', 'Desktop Application Development', 'DevOps', 'Blockchain Development', 'Cybersecurity', 'Internet of Things', 'Argumented Reality and Virtual Reality', 'Cloud Computing', 'E-commerce', 'Healthcare IT', 'System Programming', 'Signal Processing', 'Statistics', 'Frontend Development', 'Full-stack Development','API Development','Data Analysis','Scripting', 'Automation', 'System Administration']) for _ in range(num_rows)]\n",
    "cross_platform_compatibility = [random.choice(['Yes', 'No']) for _ in range(num_rows)] #Are you interested in developing applications that run on multiple platforms (Windows, macOS, Linux, etc.)?\n",
    "industry_trends = [random.choice(['Much', 'Not at all', 'Rare']) for _ in range(num_rows)] #How interested are you in staying up-to-date with current industry trends and adopting emerging technologies in your projects?\n",
    "ecosystems_and_tools = [random.choice(['Yes', 'No', 'Not sure']) for _ in range(num_rows)] #Do you prefer working with languages that have a rich ecosystem, offering a variety of tools, frameworks, and libraries?\n",
    "scalibility = [random.choice(['Small Scale', 'Large Scale', 'Mix of Both']) for _ in range(num_rows)] #Scalability:Do you foresee yourself working on small-scale projects, large-scale enterprise applications, or a mix of both?\n",
    "data_handling = [random.choice(['Yes', 'No', 'Not sure']) for _ in range(num_rows)] #Are you interested in working with large datasets and performing data analysis or machine learning tasks?\n",
    "documentation_importance = [random.choice(['Yes', 'No', 'Not sure']) for _ in range(num_rows)] #How important is well-documented language and library documentation in your decision-making process?\n",
    "\n",
    "\n",
    "language = [\"\" for _ in range(num_rows)]\n"
   ]
  },
  {
   "cell_type": "code",
   "execution_count": 54,
   "id": "5b16488b",
   "metadata": {},
   "outputs": [
    {
     "name": "stdout",
     "output_type": "stream",
     "text": [
      "            Skill         LearningStyle             ProjectType  \\\n",
      "0        Beginner       hands-on coding      System Programming   \n",
      "1        Beginner       hands-on coding              Statistics   \n",
      "2        Beginner       hands-on coding        Game Development   \n",
      "3    Intermediate    visual programming      System Programming   \n",
      "4    Intermediate    visual programming       Signal Processing   \n",
      "..            ...                   ...                     ...   \n",
      "995  Intermediate       hands-on coding         Cloud Computing   \n",
      "996      Beginner  Theoritical approach         Web Development   \n",
      "997  Intermediate  Theoritical approach        Game Development   \n",
      "998      Advanced       hands-on coding  Full-stack Development   \n",
      "999      Beginner  Theoritical approach  Mobile App Development   \n",
      "\n",
      "    PlatformCompatibility IndustrtTrends Ecosystems  Scalibility DataHandling  \\\n",
      "0                      No           Much        Yes  Small Scale     Not sure   \n",
      "1                     Yes     Not at all         No  Mix of Both           No   \n",
      "2                     Yes           Rare        Yes  Large Scale           No   \n",
      "3                      No           Rare   Not sure  Small Scale           No   \n",
      "4                      No           Rare        Yes  Mix of Both     Not sure   \n",
      "..                    ...            ...        ...          ...          ...   \n",
      "995                    No           Rare   Not sure  Mix of Both          Yes   \n",
      "996                    No     Not at all        Yes  Small Scale     Not sure   \n",
      "997                    No           Much         No  Small Scale     Not sure   \n",
      "998                   Yes           Rare   Not sure  Mix of Both          Yes   \n",
      "999                    No           Rare   Not sure  Mix of Both           No   \n",
      "\n",
      "    Documentation               Language  \n",
      "0        Not sure                      C  \n",
      "1        Not sure                      R  \n",
      "2        Not sure                Scratch  \n",
      "3              No               Assembly  \n",
      "4              No           C++ (OpenCV)  \n",
      "..            ...                    ...  \n",
      "995           Yes             JavaScript  \n",
      "996      Not sure  HTML, CSS, JavaScript  \n",
      "997      Not sure       Godot (GDScript)  \n",
      "998            No             TypeScript  \n",
      "999            No                  Swift  \n",
      "\n",
      "[1000 rows x 10 columns]\n"
     ]
    }
   ],
   "source": [
    "df = pd.DataFrame({\n",
    "    'Skill': skill_level,\n",
    "    'LearningStyle': learning_style,\n",
    "    'ProjectType': project_types,\n",
    "    'PlatformCompatibility': cross_platform_compatibility,\n",
    "    'IndustrtTrends': industry_trends,\n",
    "    'Ecosystems': ecosystems_and_tools,\n",
    "    'Scalibility':scalibility,\n",
    "    'DataHandling':data_handling,\n",
    "    'Documentation':documentation_importance,\n",
    "    'Language':language\n",
    "})\n",
    "\n",
    "# Display the first few rows of the dataset\n",
    "print(df.head(1000))"
   ]
  },
  {
   "cell_type": "code",
   "execution_count": 55,
   "id": "e907bf62",
   "metadata": {},
   "outputs": [],
   "source": [
    "df.to_excel('datasets/languageFinal.xlsx', index=False)"
   ]
  },
  {
   "cell_type": "code",
   "execution_count": null,
   "id": "a09c7f50",
   "metadata": {},
   "outputs": [],
   "source": []
  },
  {
   "cell_type": "code",
   "execution_count": null,
   "id": "4784b7e0",
   "metadata": {},
   "outputs": [],
   "source": []
  }
 ],
 "metadata": {
  "kernelspec": {
   "display_name": "Python 3 (ipykernel)",
   "language": "python",
   "name": "python3"
  },
  "language_info": {
   "codemirror_mode": {
    "name": "ipython",
    "version": 3
   },
   "file_extension": ".py",
   "mimetype": "text/x-python",
   "name": "python",
   "nbconvert_exporter": "python",
   "pygments_lexer": "ipython3",
   "version": "3.11.4"
  }
 },
 "nbformat": 4,
 "nbformat_minor": 5
}
